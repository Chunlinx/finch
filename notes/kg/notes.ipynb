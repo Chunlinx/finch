{
 "cells": [
  {
   "cell_type": "markdown",
   "metadata": {},
   "source": [
    "* Chapter 1 - Knowledge Graph Overview\n",
    "\n",
    "    * From different perspectives to see KG\n",
    "\n",
    "        * Web: similar to hyperlinks between text, build semantic links between data and support semantic searching\n",
    "\n",
    "        * NLP: how to extract semantics and structural data from text\n",
    "\n",
    "        * KR: how to use computational symbols to represent and process knowledge\n",
    "\n",
    "        * AI: how to use knowledge base to help understand human language\n",
    "\n",
    "        * DB: store knowledge in graphs"
   ]
  },
  {
   "cell_type": "markdown",
   "metadata": {},
   "source": [
    "* Chapter 2 - Knowledge Representation and modelling\n",
    "  \n",
    "    * RDF\n",
    "        * RDF represents Resource Description Framework\n",
    "  \n",
    "        * In RDF, knowledge appear as triple (subject, predicate, object)\n",
    "          \n",
    "        * RDF is also a graphical model to link the descriptions of resources\n",
    "          \n",
    "            * RDF triples can be seen as arcs of a graph (vertex + edge + vertex)\n",
    "            \n",
    "              <img src=\"img/p2.png\" width='300'>\n",
    "              \n",
    "              CCF ADL invites Haofen as a speaker; The theme of speech is KG;\n",
    "        \n",
    "        * In RDF resources and properties are identified by URIs\n",
    "        \n",
    "          <img src=\"img/p3.png\" width='600'>\n",
    "          \n",
    "        * In RDF values of properties can also be literals i.e. strings of characters\n",
    "        \n",
    "          <img src=\"img/p4.png\" width='300'>\n",
    "        \n",
    "          (CCF ADL, Speaker, Haofen)\n",
    "          \n",
    "          (CCF ADL, theme, **\"KG\"**)\n",
    "        \n",
    "        * In RDF literal values of properties can also be typed with XML datatypes\n",
    "        \n",
    "            * For example, CCF ADL has one speaker Haofen and last 3 hours\n",
    "            \n",
    "              <img src=\"img/p5.png\" width='300'>\n",
    "        \n",
    "        * Blank Nodes are allowed in RDF\n",
    "        \t\n",
    "            * A resource can be anonymous\n",
    "        \t\n",
    "        \t   * Not labelled by URI, labelled as _: xyz\n",
    "        \t  \n",
    "        \t   * For example, Haofen is the speaker of one (but not interested which one) KG conference\n",
    " \n",
    " \t\t\t\t  <img src=\"img/p1.png\" width='300'>\n",
    " \t\t\t\t\n",
    " \t\t\t      * This is a 2-hop relationship"
   ]
  },
  {
   "cell_type": "code",
   "execution_count": null,
   "metadata": {},
   "outputs": [],
   "source": []
  }
 ],
 "metadata": {
  "kernelspec": {
   "display_name": "Python 3",
   "language": "python",
   "name": "python3"
  },
  "language_info": {
   "codemirror_mode": {
    "name": "ipython",
    "version": 3
   },
   "file_extension": ".py",
   "mimetype": "text/x-python",
   "name": "python",
   "nbconvert_exporter": "python",
   "pygments_lexer": "ipython3",
   "version": "3.6.5"
  }
 },
 "nbformat": 4,
 "nbformat_minor": 2
}

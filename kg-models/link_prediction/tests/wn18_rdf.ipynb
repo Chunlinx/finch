{
 "cells": [
  {
   "cell_type": "code",
   "execution_count": 1,
   "metadata": {},
   "outputs": [],
   "source": [
    "import rdflib\n",
    "import urllib\n",
    "import pprint\n",
    "import itertools\n",
    "import os\n",
    "import sys\n",
    "from tqdm import tqdm\n",
    "\n",
    "sys.path.append(os.path.dirname(os.getcwd()))\n",
    "from data import WN18"
   ]
  },
  {
   "cell_type": "code",
   "execution_count": 2,
   "metadata": {},
   "outputs": [],
   "source": [
    "def read_triples(path):\n",
    "    triples = []\n",
    "    with open(path, 'rt') as f:\n",
    "        for line in f.readlines():\n",
    "            s, p, o = line.split()\n",
    "            triples += [(s.strip(), p.strip(), o.strip())]\n",
    "    return triples\n",
    "\n",
    "def load_triple():\n",
    "    WN18.download()\n",
    "    triples_tr = read_triples('../data/WN18/wn18/train.txt')\n",
    "    triples_va = read_triples('../data/WN18/wn18/valid.txt')\n",
    "    triples_te = read_triples('../data/WN18/wn18/test.txt')\n",
    "    triples_all = triples_tr + triples_va + triples_te\n",
    "    return triples_all, triples_tr, triples_va, triples_te\n",
    "\n",
    "def get_resources(triples):\n",
    "    return set([r for triple in triples for r in triple])\n",
    "\n",
    "def to_uri(suffix, uri_prefix):\n",
    "    return uri_prefix + urllib.parse.quote(suffix)\n",
    "\n",
    "def glance_dict(d, n=5):\n",
    "    return dict(itertools.islice(d.items(), n))\n",
    "\n",
    "def build_rdf_graph(triples, uri_prefix='http://www.example.org/'):\n",
    "    graph = rdflib.Graph()\n",
    "    resources = get_resources(triples)\n",
    "    resource2uri = {r: to_uri(r, uri_prefix) for r in resources}\n",
    "    uri2resource = {uri: r for r, uri in resource2uri.items()}\n",
    "    for (s, p, o) in tqdm(triples, total=len(triples), ncols=70):\n",
    "        s_uri = rdflib.URIRef(resource2uri[s])\n",
    "        p_uri = rdflib.URIRef(resource2uri[p])\n",
    "        o_uri = rdflib.URIRef(resource2uri[o])\n",
    "        graph.add((s_uri, p_uri, o_uri))\n",
    "    return graph, uri2resource"
   ]
  },
  {
   "cell_type": "code",
   "execution_count": 3,
   "metadata": {},
   "outputs": [
    {
     "name": "stdout",
     "output_type": "stream",
     "text": [
      "Files Already Downloaded\n"
     ]
    },
    {
     "name": "stderr",
     "output_type": "stream",
     "text": [
      "100%|██████████████████████| 141442/141442 [00:05<00:00, 27756.85it/s]\n"
     ]
    },
    {
     "name": "stdout",
     "output_type": "stream",
     "text": [
      "09316454 _instance_hyponym 08908954\n"
     ]
    }
   ],
   "source": [
    "triples_all, triples_tr, triples_va, triples_te = load_triple()\n",
    "rdf_graph, uri2resource = build_rdf_graph(triples_tr)\n",
    "query = (\n",
    "    \"\"\"\n",
    "    SELECT DISTINCT ?s ?p ?o WHERE {\n",
    "        ?s ?p ?o .\n",
    "    }\n",
    "    \"\"\"\n",
    ")\n",
    "for row in rdf_graph.query(query):\n",
    "    s = uri2resource[row.s.toPython()]\n",
    "    p = uri2resource[row.p.toPython()]\n",
    "    o = uri2resource[row.o.toPython()]\n",
    "    print(s, p, o)\n",
    "    break"
   ]
  },
  {
   "cell_type": "code",
   "execution_count": null,
   "metadata": {},
   "outputs": [],
   "source": []
  }
 ],
 "metadata": {
  "kernelspec": {
   "display_name": "Python 3",
   "language": "python",
   "name": "python3"
  },
  "language_info": {
   "codemirror_mode": {
    "name": "ipython",
    "version": 3
   },
   "file_extension": ".py",
   "mimetype": "text/x-python",
   "name": "python",
   "nbconvert_exporter": "python",
   "pygments_lexer": "ipython3",
   "version": "3.6.5"
  }
 },
 "nbformat": 4,
 "nbformat_minor": 2
}

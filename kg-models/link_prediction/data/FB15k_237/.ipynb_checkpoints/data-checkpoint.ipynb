{
 "cells": [
  {
   "cell_type": "code",
   "execution_count": 1,
   "metadata": {},
   "outputs": [],
   "source": [
    "import pprint"
   ]
  },
  {
   "cell_type": "code",
   "execution_count": 2,
   "metadata": {},
   "outputs": [
    {
     "name": "stdout",
     "output_type": "stream",
     "text": [
      "[['/m/027rn', '/location/country/form_of_government', '/m/06cx9'],\n",
      " ['/m/017dcd',\n",
      "  '/tv/tv_program/regular_cast./tv/regular_tv_appearance/actor',\n",
      "  '/m/06v8s0'],\n",
      " ['/m/07s9rl0', '/media_common/netflix_genre/titles', '/m/0170z3'],\n",
      " ['/m/01sl1q',\n",
      "  '/award/award_winner/awards_won./award/award_honor/award_winner',\n",
      "  '/m/044mz_'],\n",
      " ['/m/0cnk2q',\n",
      "  '/soccer/football_team/current_roster./sports/sports_team_roster/position',\n",
      "  '/m/02nzb8']]\n"
     ]
    }
   ],
   "source": [
    "def load_fb15k_triples(path):\n",
    "    with open(path, 'r') as f:\n",
    "        triples = [line.strip('\\n').split('\\t') for line in f.readlines()]\n",
    "    return triples\n",
    "\n",
    "triples = load_fb15k_triples('./Release/train.txt')\n",
    "pprint.pprint(triples[:5])"
   ]
  },
  {
   "cell_type": "code",
   "execution_count": null,
   "metadata": {},
   "outputs": [],
   "source": []
  }
 ],
 "metadata": {
  "kernelspec": {
   "display_name": "Python 3",
   "language": "python",
   "name": "python3"
  },
  "language_info": {
   "codemirror_mode": {
    "name": "ipython",
    "version": 3
   },
   "file_extension": ".py",
   "mimetype": "text/x-python",
   "name": "python",
   "nbconvert_exporter": "python",
   "pygments_lexer": "ipython3",
   "version": "3.6.5"
  }
 },
 "nbformat": 4,
 "nbformat_minor": 2
}
